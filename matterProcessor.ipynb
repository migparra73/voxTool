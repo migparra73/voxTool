{
 "cells": [
  {
   "cell_type": "code",
   "execution_count": 1,
   "metadata": {},
   "outputs": [
    {
     "name": "stdout",
     "output_type": "stream",
     "text": [
      "Electrode names with global and subindices have been expanded and saved to 'expanded_electrodes.csv'.\n"
     ]
    }
   ],
   "source": [
    "import csv\n",
    "# Where we have the \"channel\" column, this should be ChannelID. What we have right now is the \"channel index\" which is different.\n",
    "# Channel ID can be non-contiguous, and can have discontinuities.\n",
    "# As such, @todo We need to remove the sequence number and replace this with the expanded Channel ID.\n",
    "# We should get the channel ID from\n",
    "# Input data as a string, for demonstration purposes\n",
    "\n",
    "\n",
    "\n",
    "# Convert the string to a list of lines\n",
    "lines = data.split('\\n')\n",
    "\n",
    "# Open a file to write the expanded electrode names\n",
    "with open('expanded_electrodes_p064.csv', 'w', newline='') as file:\n",
    "    writer = csv.writer(file)\n",
    "    writer.writerow(['Sequence Number', 'Electrode Name', 'Hemisphere', 'Location', 'EntryPt','Target'])  # Write header\n",
    "\n",
    "    global_electrode_number = 1\n",
    "    last_label = \"\"\n",
    "    subindex = 0\n",
    "\n",
    "    # Process each line except the header\n",
    "    for line in lines[1:]:\n",
    "        parts = line.split(',')\n",
    "        if len(parts) < 7:\n",
    "            continue  # Skip incomplete lines\n",
    "\n",
    "        location = parts[2]\n",
    "        hemisphere = parts[3]\n",
    "\n",
    "        grid_id, label, channel_range, grid_electrode_range = parts[0], parts[4], parts[5], parts[6]\n",
    "        start_channel, end_channel = map(int, channel_range.split(':'))\n",
    "        start_grid, end_grid = map(int, grid_electrode_range.split(':'))\n",
    "\n",
    "        # Generate and write each electrode name along with global and sub indices\n",
    "        for i, j in zip(range(start_channel, end_channel + 1), range(start_grid, end_grid + 1)):\n",
    "            electrode_name = f\"{label}{i}\"\n",
    "            grid_electrode_name = f\"{label}{j}\"\n",
    "            writer.writerow([global_electrode_number, grid_electrode_name, hemisphere, 'X', 'Y', location])\n",
    "            global_electrode_number += 1\n",
    "\n",
    "print(\"Electrode names with global and subindices have been expanded and saved to 'expanded_electrodes.csv'.\")"
   ]
  }
 ],
 "metadata": {
  "kernelspec": {
   "display_name": "vt",
   "language": "python",
   "name": "python3"
  },
  "language_info": {
   "codemirror_mode": {
    "name": "ipython",
    "version": 3
   },
   "file_extension": ".py",
   "mimetype": "text/x-python",
   "name": "python",
   "nbconvert_exporter": "python",
   "pygments_lexer": "ipython3",
   "version": "3.12.1"
  }
 },
 "nbformat": 4,
 "nbformat_minor": 2
}
